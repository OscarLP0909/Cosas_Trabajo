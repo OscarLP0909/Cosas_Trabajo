{
 "cells": [
  {
   "cell_type": "code",
   "execution_count": null,
   "id": "b24e2e88",
   "metadata": {},
   "outputs": [],
   "source": [
    "ESTADÍSTICAS\n",
    "\n",
    "MD CORAL BEACH : 20/06\n",
    "\n",
    "MD MARINA PARC : 21/06 - 23/06\n",
    "\n",
    "MD PARAISO : 17/06\n",
    "\n",
    "\n"
   ]
  }
 ],
 "metadata": {
  "language_info": {
   "name": "python"
  }
 },
 "nbformat": 4,
 "nbformat_minor": 5
}
