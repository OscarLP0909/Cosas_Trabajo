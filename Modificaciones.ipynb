{
 "cells": [
  {
   "cell_type": "code",
   "execution_count": null,
   "id": "fb6a4c32",
   "metadata": {},
   "outputs": [],
   "source": [
    "Modificaciones Reenviadas:\n",
    "\n",
    "11/04 11:47 -- 29/04 16:26\n",
    "29/04 14:32 -- 29/04 16:11 A la Espera de Aprobacion\n"
   ]
  }
 ],
 "metadata": {
  "language_info": {
   "name": "python"
  }
 },
 "nbformat": 4,
 "nbformat_minor": 5
}
