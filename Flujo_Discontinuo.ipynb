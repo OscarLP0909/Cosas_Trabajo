{
 "cells": [
  {
   "cell_type": "code",
   "execution_count": null,
   "id": "76ca2984",
   "metadata": {
    "vscode": {
     "languageId": "plaintext"
    }
   },
   "outputs": [],
   "source": [
    "Cuando se crea un elemento en la lista de Principal\n",
    "\n",
    "Obtener Elementos Empleados\n",
    "\n",
    "Obtener Elementos Contratos\n",
    "\n",
    "Variables {\n",
    "    NIF_NIE\n",
    "    Sociedad\n",
    "    Centro\n",
    "    ID_Empleado\n",
    "}\n",
    "\n",
    "if (tipo_contrato = FD) {\n",
    "    Obtener Elementos de Principal, Empleados y Contratos;\n",
    "    Crear Elemento en lista de Discontinuos añadiendo el orden;\n",
    "    if(Departamento existe) {\n",
    "        Orden + 1;\n",
    "    }\n",
    "} else {\n",
    "    Terminar flujo como Cancelado;\n",
    "}"
   ]
  }
 ],
 "metadata": {
  "language_info": {
   "name": "python"
  }
 },
 "nbformat": 4,
 "nbformat_minor": 5
}
