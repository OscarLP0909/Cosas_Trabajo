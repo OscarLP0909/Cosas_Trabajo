{
 "cells": [
  {
   "cell_type": "code",
   "execution_count": null,
   "id": "6bb95025",
   "metadata": {
    "vscode": {
     "languageId": "plaintext"
    }
   },
   "outputs": [],
   "source": [
    "if(\n",
    "  or(\n",
    "    equals(variables('tipo_jornada'), 'PARCIAL'),\n",
    "    equals(variables('tipo_jornada'), 'TURNOS')\n",
    "  ),\n",
    "  concat(variables('tipo_jornada'), ' - ', variables('horas_parcial'), ' - ', variables('tipo_horas')),\n",
    "  variables('tipo_jornada')\n",
    ")\n",
    "\n",
    "\n",
    "if(\n",
    "  or(equals(variables('horario'), null), equals(variables('horario'), '')),\n",
    "  'JORNADA COMPLETA',\n",
    "  variables('horario')\n",
    ")\n",
    "\n"
   ]
  }
 ],
 "metadata": {
  "language_info": {
   "name": "python"
  }
 },
 "nbformat": 4,
 "nbformat_minor": 5
}
