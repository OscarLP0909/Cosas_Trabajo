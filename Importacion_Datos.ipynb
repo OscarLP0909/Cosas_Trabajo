{
 "cells": [
  {
   "cell_type": "code",
   "execution_count": null,
   "id": "b4b7a8c6",
   "metadata": {},
   "outputs": [],
   "source": [
    "from networkx import circular_ladder_graph\n",
    "\n",
    "\n",
    "** TO-DO PARA LAS IMPORTACIONES DE EMPLEADOS **\n",
    "\n",
    "1. DESACTIVAR FLUJO QR_EMPLEADOS.  \n",
    " \n",
    "2. DESACTIVAR FLUJO PROD_WORD_ALTA. (NO HACE FALTA)\n",
    "\n",
    "3. ELIMINAR DATOS ADJUNTOS QUE SE VAYAN CREANDO. NOMBRE FLUJO ---> ELIMINAR DATOS ADJUNTOS EMPLEADOS\n",
    "\n",
    "4. AGREGAR QR A LO MEJOR SI ES NECESARIO. (SI ES NECESARIO)\n",
    "\n",
    "5. AGREGAR NUEVOS DATOS A PRINCIPAL. NOMBRE DEL FLUJO ---> A PRINCIPAL\n",
    "\n",
    "6. RELLENAR FICHA MANUAL. \n",
    "\n",
    "\n",
    "\n",
    "** HOTELES QUE FALTAN DATOS PARA ESTA SEMANA **\n",
    "\n",
    "MD LENTISCOS \n",
    "\n",
    "MD CORAL BEACH \n",
    "\n",
    "MD ATLANTIC (EN ELLO)"
   ]
  }
 ],
 "metadata": {
  "language_info": {
   "name": "python"
  }
 },
 "nbformat": 4,
 "nbformat_minor": 5
}
