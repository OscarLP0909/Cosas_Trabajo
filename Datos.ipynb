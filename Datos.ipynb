{
 "cells": [
  {
   "cell_type": "code",
   "execution_count": null,
   "id": "f6b7d722",
   "metadata": {},
   "outputs": [],
   "source": [
    "\n",
    "*** COSAS ***\n",
    "\n",
    "**Datos que necesitamos de los Trabajadores:**\n",
    "\n",
    "- NIF\n",
    "- NOMBRE COMPLETO\n",
    "- FECHA DE NACIMIENTO\n",
    "- TELEFONO\n",
    "- NAF\n",
    "- IBAN\n",
    "- DOMICILIO\n",
    "- TIPO CONTRATO\n",
    "- Departamento\n",
    "- CATEGORÍA\n",
    "- PUESTO\n",
    "\n",
    "\n",
    "**Correos pidiendo Datos de trabajadores:**\n",
    "\n",
    "- Enviarlo al director del hotel y de zona.\n",
    "- Copia a RRHH y a Sahuco\n",
    "\n",
    "\n",
    "\n",
    "** SIHOT DOG FRIENDLY **\n",
    "\n",
    "- Cambiar tasas de 10 a 12 y si es 20 a 25\n",
    "\n",
    "\n",
    "\n",
    "** DESCARGAR ANYDESK EN EL PORTÁTIL DE CASA **\n",
    "- Para poder acceder a la oficina de casa desde el portátil de casa, hay que descargar el programa Anydesk y configurarlo para que se pueda acceder desde fuera.\n",
    "- Para ello, hay que ir a la página web de Anydesk y descargar el programa.\n",
    "- Una vez descargado, hay que abrir el programa y configurar la opción de acceso remoto. Esto permitirá que se pueda acceder al ordenador desde fuera de la oficina.\n",
    "- Es importante asegurarse de que el ordenador esté encendido y conectado a internet para poder acceder a él desde fuera."
   ]
  }
 ],
 "metadata": {
  "language_info": {
   "name": "python"
  }
 },
 "nbformat": 4,
 "nbformat_minor": 5
}
