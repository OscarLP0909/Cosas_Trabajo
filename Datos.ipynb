{
 "cells": [
  {
   "cell_type": "code",
   "execution_count": null,
   "id": "f6b7d722",
   "metadata": {},
   "outputs": [],
   "source": [
    "\n",
    "*** COSAS ***\n",
    "\n",
    "**Datos que necesitamos de los Trabajadores:**\n",
    "\n",
    "- NIF\n",
    "- NOMBRE COMPLETO\n",
    "- FECHA DE NACIMIENTO\n",
    "- TELEFONO\n",
    "- NAF\n",
    "- IBAN\n",
    "- DOMICILIO\n",
    "- TIPO CONTRATO\n",
    "- Departamento\n",
    "- CATEGORÍA\n",
    "- PUESTO\n",
    "\n",
    "\n",
    "**Correos pidiendo Datos de trabajadores:**\n",
    "\n",
    "- Enviarlo al director del hotel y de zona.\n",
    "- Copia a RRHH y a Sahuco\n",
    "\n",
    "\n",
    "\n",
    "** SIHOT DOG FRIENDLY **\n",
    "\n",
    "- Cambiar tasas de 10 a 12 y si es 20 a 25"
   ]
  }
 ],
 "metadata": {
  "language_info": {
   "name": "python"
  }
 },
 "nbformat": 4,
 "nbformat_minor": 5
}
